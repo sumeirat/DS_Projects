{
 "cells": [
  {
   "cell_type": "markdown",
   "metadata": {},
   "source": [
    "# New York City - Hour Range"
   ]
  },
  {
   "cell_type": "code",
   "execution_count": 25,
   "metadata": {},
   "outputs": [],
   "source": [
    "import warnings\n",
    "warnings.filterwarnings('ignore')"
   ]
  },
  {
   "cell_type": "code",
   "execution_count": 26,
   "metadata": {},
   "outputs": [],
   "source": [
    "import matplotlib.pyplot as plt\n",
    "import numpy as np\n",
    "import pandas as pd"
   ]
  },
  {
   "cell_type": "code",
   "execution_count": 27,
   "metadata": {},
   "outputs": [],
   "source": [
    "# Reading merged bike datas for 2018\n",
    "chicago_2018 = pd.read_csv(\"./Resources/Bike_Data/Cleaned/nyc_merged_2018.csv\")\n",
    "# dc_2018 = pd.read_csv(\"./Resources/Bike_Data/Cleaned/dc_merged_2018.csv\")\n",
    "# nyc_2018 = pd.read_csv(\"./Resources/Bike_Data/Cleaned/nyc_merged_2018.csv\")"
   ]
  },
  {
   "cell_type": "code",
   "execution_count": 28,
   "metadata": {},
   "outputs": [
    {
     "data": {
      "text/html": [
       "<div>\n",
       "<style scoped>\n",
       "    .dataframe tbody tr th:only-of-type {\n",
       "        vertical-align: middle;\n",
       "    }\n",
       "\n",
       "    .dataframe tbody tr th {\n",
       "        vertical-align: top;\n",
       "    }\n",
       "\n",
       "    .dataframe thead th {\n",
       "        text-align: right;\n",
       "    }\n",
       "</style>\n",
       "<table border=\"1\" class=\"dataframe\">\n",
       "  <thead>\n",
       "    <tr style=\"text-align: right;\">\n",
       "      <th></th>\n",
       "      <th>start_date</th>\n",
       "      <th>start_hour_range</th>\n",
       "      <th>start_station_name</th>\n",
       "      <th>trip_count</th>\n",
       "      <th>trip_duration_avg</th>\n",
       "      <th>TAVG</th>\n",
       "      <th>TMAX</th>\n",
       "      <th>TMIN</th>\n",
       "      <th>PRCP</th>\n",
       "      <th>AWND</th>\n",
       "      <th>SNWD</th>\n",
       "    </tr>\n",
       "  </thead>\n",
       "  <tbody>\n",
       "    <tr>\n",
       "      <th>0</th>\n",
       "      <td>01/01/2018</td>\n",
       "      <td>1am-6am</td>\n",
       "      <td>1 Ave &amp; E 110 St</td>\n",
       "      <td>1</td>\n",
       "      <td>459</td>\n",
       "      <td>13</td>\n",
       "      <td>19</td>\n",
       "      <td>8</td>\n",
       "      <td>0.0</td>\n",
       "      <td>17.0</td>\n",
       "      <td>0.0</td>\n",
       "    </tr>\n",
       "    <tr>\n",
       "      <th>1</th>\n",
       "      <td>01/01/2018</td>\n",
       "      <td>1am-6am</td>\n",
       "      <td>1 Ave &amp; E 16 St</td>\n",
       "      <td>9</td>\n",
       "      <td>228</td>\n",
       "      <td>13</td>\n",
       "      <td>19</td>\n",
       "      <td>8</td>\n",
       "      <td>0.0</td>\n",
       "      <td>17.0</td>\n",
       "      <td>0.0</td>\n",
       "    </tr>\n",
       "    <tr>\n",
       "      <th>2</th>\n",
       "      <td>01/01/2018</td>\n",
       "      <td>1am-6am</td>\n",
       "      <td>1 Ave &amp; E 18 St</td>\n",
       "      <td>2</td>\n",
       "      <td>555</td>\n",
       "      <td>13</td>\n",
       "      <td>19</td>\n",
       "      <td>8</td>\n",
       "      <td>0.0</td>\n",
       "      <td>17.0</td>\n",
       "      <td>0.0</td>\n",
       "    </tr>\n",
       "    <tr>\n",
       "      <th>3</th>\n",
       "      <td>01/01/2018</td>\n",
       "      <td>1am-6am</td>\n",
       "      <td>1 Ave &amp; E 30 St</td>\n",
       "      <td>1</td>\n",
       "      <td>800</td>\n",
       "      <td>13</td>\n",
       "      <td>19</td>\n",
       "      <td>8</td>\n",
       "      <td>0.0</td>\n",
       "      <td>17.0</td>\n",
       "      <td>0.0</td>\n",
       "    </tr>\n",
       "    <tr>\n",
       "      <th>4</th>\n",
       "      <td>01/01/2018</td>\n",
       "      <td>1am-6am</td>\n",
       "      <td>1 Ave &amp; E 62 St</td>\n",
       "      <td>1</td>\n",
       "      <td>737</td>\n",
       "      <td>13</td>\n",
       "      <td>19</td>\n",
       "      <td>8</td>\n",
       "      <td>0.0</td>\n",
       "      <td>17.0</td>\n",
       "      <td>0.0</td>\n",
       "    </tr>\n",
       "  </tbody>\n",
       "</table>\n",
       "</div>"
      ],
      "text/plain": [
       "   start_date start_hour_range start_station_name  trip_count  \\\n",
       "0  01/01/2018          1am-6am   1 Ave & E 110 St           1   \n",
       "1  01/01/2018          1am-6am    1 Ave & E 16 St           9   \n",
       "2  01/01/2018          1am-6am    1 Ave & E 18 St           2   \n",
       "3  01/01/2018          1am-6am    1 Ave & E 30 St           1   \n",
       "4  01/01/2018          1am-6am    1 Ave & E 62 St           1   \n",
       "\n",
       "   trip_duration_avg  TAVG  TMAX  TMIN  PRCP  AWND  SNWD  \n",
       "0                459    13    19     8   0.0  17.0   0.0  \n",
       "1                228    13    19     8   0.0  17.0   0.0  \n",
       "2                555    13    19     8   0.0  17.0   0.0  \n",
       "3                800    13    19     8   0.0  17.0   0.0  \n",
       "4                737    13    19     8   0.0  17.0   0.0  "
      ]
     },
     "execution_count": 28,
     "metadata": {},
     "output_type": "execute_result"
    }
   ],
   "source": [
    "chicago_2018.head()"
   ]
  },
  {
   "cell_type": "code",
   "execution_count": 29,
   "metadata": {},
   "outputs": [
    {
     "data": {
      "text/html": [
       "<div>\n",
       "<style scoped>\n",
       "    .dataframe tbody tr th:only-of-type {\n",
       "        vertical-align: middle;\n",
       "    }\n",
       "\n",
       "    .dataframe tbody tr th {\n",
       "        vertical-align: top;\n",
       "    }\n",
       "\n",
       "    .dataframe thead th {\n",
       "        text-align: right;\n",
       "    }\n",
       "</style>\n",
       "<table border=\"1\" class=\"dataframe\">\n",
       "  <thead>\n",
       "    <tr style=\"text-align: right;\">\n",
       "      <th></th>\n",
       "      <th>start_date</th>\n",
       "      <th>start_hour_range</th>\n",
       "      <th>trip_count</th>\n",
       "      <th>TAVG</th>\n",
       "      <th>TMAX</th>\n",
       "      <th>TMIN</th>\n",
       "      <th>PRCP</th>\n",
       "      <th>AWND</th>\n",
       "      <th>SNWD</th>\n",
       "    </tr>\n",
       "  </thead>\n",
       "  <tbody>\n",
       "    <tr>\n",
       "      <th>0</th>\n",
       "      <td>01/01/2018</td>\n",
       "      <td>10am-4pm</td>\n",
       "      <td>2792</td>\n",
       "      <td>13</td>\n",
       "      <td>19</td>\n",
       "      <td>8</td>\n",
       "      <td>0.0</td>\n",
       "      <td>17.0</td>\n",
       "      <td>0.0</td>\n",
       "    </tr>\n",
       "    <tr>\n",
       "      <th>1</th>\n",
       "      <td>01/01/2018</td>\n",
       "      <td>1am-6am</td>\n",
       "      <td>437</td>\n",
       "      <td>13</td>\n",
       "      <td>19</td>\n",
       "      <td>8</td>\n",
       "      <td>0.0</td>\n",
       "      <td>17.0</td>\n",
       "      <td>0.0</td>\n",
       "    </tr>\n",
       "    <tr>\n",
       "      <th>2</th>\n",
       "      <td>01/01/2018</td>\n",
       "      <td>5pm-7pm</td>\n",
       "      <td>1135</td>\n",
       "      <td>13</td>\n",
       "      <td>19</td>\n",
       "      <td>8</td>\n",
       "      <td>0.0</td>\n",
       "      <td>17.0</td>\n",
       "      <td>0.0</td>\n",
       "    </tr>\n",
       "    <tr>\n",
       "      <th>3</th>\n",
       "      <td>01/01/2018</td>\n",
       "      <td>7am-9am</td>\n",
       "      <td>346</td>\n",
       "      <td>13</td>\n",
       "      <td>19</td>\n",
       "      <td>8</td>\n",
       "      <td>0.0</td>\n",
       "      <td>17.0</td>\n",
       "      <td>0.0</td>\n",
       "    </tr>\n",
       "    <tr>\n",
       "      <th>4</th>\n",
       "      <td>01/01/2018</td>\n",
       "      <td>8pm_12am</td>\n",
       "      <td>790</td>\n",
       "      <td>13</td>\n",
       "      <td>19</td>\n",
       "      <td>8</td>\n",
       "      <td>0.0</td>\n",
       "      <td>17.0</td>\n",
       "      <td>0.0</td>\n",
       "    </tr>\n",
       "  </tbody>\n",
       "</table>\n",
       "</div>"
      ],
      "text/plain": [
       "   start_date start_hour_range  trip_count  TAVG  TMAX  TMIN  PRCP  AWND  SNWD\n",
       "0  01/01/2018         10am-4pm        2792    13    19     8   0.0  17.0   0.0\n",
       "1  01/01/2018          1am-6am         437    13    19     8   0.0  17.0   0.0\n",
       "2  01/01/2018          5pm-7pm        1135    13    19     8   0.0  17.0   0.0\n",
       "3  01/01/2018          7am-9am         346    13    19     8   0.0  17.0   0.0\n",
       "4  01/01/2018         8pm_12am         790    13    19     8   0.0  17.0   0.0"
      ]
     },
     "execution_count": 29,
     "metadata": {},
     "output_type": "execute_result"
    }
   ],
   "source": [
    "chicago_2018_gb = chicago_2018.groupby([\"start_date\", \"start_hour_range\"])\n",
    "chicago_2018_agg =chicago_2018_gb.agg({\"trip_count\": \"sum\", \"TAVG\": \"mean\", \"TMAX\": \"mean\",\n",
    "                                       \"TMIN\": \"mean\", \"PRCP\": \"mean\", \"AWND\": \"mean\", \"SNWD\": \"mean\"}) \n",
    "chicago_2018_agg.reset_index(level=[\"start_date\", \"start_hour_range\"], inplace=True)\n",
    "chicago_2018_agg.head()"
   ]
  },
  {
   "cell_type": "code",
   "execution_count": 30,
   "metadata": {},
   "outputs": [
    {
     "data": {
      "text/html": [
       "<div>\n",
       "<style scoped>\n",
       "    .dataframe tbody tr th:only-of-type {\n",
       "        vertical-align: middle;\n",
       "    }\n",
       "\n",
       "    .dataframe tbody tr th {\n",
       "        vertical-align: top;\n",
       "    }\n",
       "\n",
       "    .dataframe thead th {\n",
       "        text-align: right;\n",
       "    }\n",
       "</style>\n",
       "<table border=\"1\" class=\"dataframe\">\n",
       "  <thead>\n",
       "    <tr style=\"text-align: right;\">\n",
       "      <th></th>\n",
       "      <th>start_hour_range</th>\n",
       "      <th>TAVG</th>\n",
       "      <th>TMAX</th>\n",
       "      <th>TMIN</th>\n",
       "      <th>PRCP</th>\n",
       "      <th>AWND</th>\n",
       "      <th>SNWD</th>\n",
       "    </tr>\n",
       "  </thead>\n",
       "  <tbody>\n",
       "    <tr>\n",
       "      <th>0</th>\n",
       "      <td>10am-4pm</td>\n",
       "      <td>13</td>\n",
       "      <td>19</td>\n",
       "      <td>8</td>\n",
       "      <td>0.0</td>\n",
       "      <td>17.0</td>\n",
       "      <td>0.0</td>\n",
       "    </tr>\n",
       "    <tr>\n",
       "      <th>1</th>\n",
       "      <td>1am-6am</td>\n",
       "      <td>13</td>\n",
       "      <td>19</td>\n",
       "      <td>8</td>\n",
       "      <td>0.0</td>\n",
       "      <td>17.0</td>\n",
       "      <td>0.0</td>\n",
       "    </tr>\n",
       "    <tr>\n",
       "      <th>2</th>\n",
       "      <td>5pm-7pm</td>\n",
       "      <td>13</td>\n",
       "      <td>19</td>\n",
       "      <td>8</td>\n",
       "      <td>0.0</td>\n",
       "      <td>17.0</td>\n",
       "      <td>0.0</td>\n",
       "    </tr>\n",
       "    <tr>\n",
       "      <th>3</th>\n",
       "      <td>7am-9am</td>\n",
       "      <td>13</td>\n",
       "      <td>19</td>\n",
       "      <td>8</td>\n",
       "      <td>0.0</td>\n",
       "      <td>17.0</td>\n",
       "      <td>0.0</td>\n",
       "    </tr>\n",
       "    <tr>\n",
       "      <th>4</th>\n",
       "      <td>8pm_12am</td>\n",
       "      <td>13</td>\n",
       "      <td>19</td>\n",
       "      <td>8</td>\n",
       "      <td>0.0</td>\n",
       "      <td>17.0</td>\n",
       "      <td>0.0</td>\n",
       "    </tr>\n",
       "  </tbody>\n",
       "</table>\n",
       "</div>"
      ],
      "text/plain": [
       "  start_hour_range  TAVG  TMAX  TMIN  PRCP  AWND  SNWD\n",
       "0         10am-4pm    13    19     8   0.0  17.0   0.0\n",
       "1          1am-6am    13    19     8   0.0  17.0   0.0\n",
       "2          5pm-7pm    13    19     8   0.0  17.0   0.0\n",
       "3          7am-9am    13    19     8   0.0  17.0   0.0\n",
       "4         8pm_12am    13    19     8   0.0  17.0   0.0"
      ]
     },
     "execution_count": 30,
     "metadata": {},
     "output_type": "execute_result"
    }
   ],
   "source": [
    "chicago_2018_m = chicago_2018_agg.drop([\"start_date\", \"trip_count\"], axis=1)\n",
    "chicago_2018_m.head()"
   ]
  },
  {
   "cell_type": "code",
   "execution_count": 31,
   "metadata": {},
   "outputs": [
    {
     "data": {
      "text/plain": [
       "Index(['TAVG', 'TMAX', 'TMIN', 'PRCP', 'AWND', 'SNWD',\n",
       "       'start_hour_range_10am-4pm', 'start_hour_range_1am-6am',\n",
       "       'start_hour_range_5pm-7pm', 'start_hour_range_7am-9am',\n",
       "       'start_hour_range_8pm_12am'],\n",
       "      dtype='object')"
      ]
     },
     "execution_count": 31,
     "metadata": {},
     "output_type": "execute_result"
    }
   ],
   "source": [
    "chicago_2018_X = pd.get_dummies(chicago_2018_m)\n",
    "chicago_2018_X.columns"
   ]
  },
  {
   "cell_type": "code",
   "execution_count": 32,
   "metadata": {},
   "outputs": [
    {
     "data": {
      "text/html": [
       "<div>\n",
       "<style scoped>\n",
       "    .dataframe tbody tr th:only-of-type {\n",
       "        vertical-align: middle;\n",
       "    }\n",
       "\n",
       "    .dataframe tbody tr th {\n",
       "        vertical-align: top;\n",
       "    }\n",
       "\n",
       "    .dataframe thead th {\n",
       "        text-align: right;\n",
       "    }\n",
       "</style>\n",
       "<table border=\"1\" class=\"dataframe\">\n",
       "  <thead>\n",
       "    <tr style=\"text-align: right;\">\n",
       "      <th></th>\n",
       "      <th>TAVG</th>\n",
       "      <th>TMAX</th>\n",
       "      <th>TMIN</th>\n",
       "      <th>PRCP</th>\n",
       "      <th>AWND</th>\n",
       "      <th>SNWD</th>\n",
       "      <th>start_hour_range_10am-4pm</th>\n",
       "      <th>start_hour_range_1am-6am</th>\n",
       "      <th>start_hour_range_5pm-7pm</th>\n",
       "      <th>start_hour_range_7am-9am</th>\n",
       "      <th>start_hour_range_8pm_12am</th>\n",
       "    </tr>\n",
       "  </thead>\n",
       "  <tbody>\n",
       "    <tr>\n",
       "      <th>0</th>\n",
       "      <td>13</td>\n",
       "      <td>19</td>\n",
       "      <td>8</td>\n",
       "      <td>0.0</td>\n",
       "      <td>17.0</td>\n",
       "      <td>0.0</td>\n",
       "      <td>1</td>\n",
       "      <td>0</td>\n",
       "      <td>0</td>\n",
       "      <td>0</td>\n",
       "      <td>0</td>\n",
       "    </tr>\n",
       "    <tr>\n",
       "      <th>1</th>\n",
       "      <td>13</td>\n",
       "      <td>19</td>\n",
       "      <td>8</td>\n",
       "      <td>0.0</td>\n",
       "      <td>17.0</td>\n",
       "      <td>0.0</td>\n",
       "      <td>0</td>\n",
       "      <td>1</td>\n",
       "      <td>0</td>\n",
       "      <td>0</td>\n",
       "      <td>0</td>\n",
       "    </tr>\n",
       "    <tr>\n",
       "      <th>2</th>\n",
       "      <td>13</td>\n",
       "      <td>19</td>\n",
       "      <td>8</td>\n",
       "      <td>0.0</td>\n",
       "      <td>17.0</td>\n",
       "      <td>0.0</td>\n",
       "      <td>0</td>\n",
       "      <td>0</td>\n",
       "      <td>1</td>\n",
       "      <td>0</td>\n",
       "      <td>0</td>\n",
       "    </tr>\n",
       "    <tr>\n",
       "      <th>3</th>\n",
       "      <td>13</td>\n",
       "      <td>19</td>\n",
       "      <td>8</td>\n",
       "      <td>0.0</td>\n",
       "      <td>17.0</td>\n",
       "      <td>0.0</td>\n",
       "      <td>0</td>\n",
       "      <td>0</td>\n",
       "      <td>0</td>\n",
       "      <td>1</td>\n",
       "      <td>0</td>\n",
       "    </tr>\n",
       "    <tr>\n",
       "      <th>4</th>\n",
       "      <td>13</td>\n",
       "      <td>19</td>\n",
       "      <td>8</td>\n",
       "      <td>0.0</td>\n",
       "      <td>17.0</td>\n",
       "      <td>0.0</td>\n",
       "      <td>0</td>\n",
       "      <td>0</td>\n",
       "      <td>0</td>\n",
       "      <td>0</td>\n",
       "      <td>1</td>\n",
       "    </tr>\n",
       "  </tbody>\n",
       "</table>\n",
       "</div>"
      ],
      "text/plain": [
       "   TAVG  TMAX  TMIN  PRCP  AWND  SNWD  start_hour_range_10am-4pm  \\\n",
       "0    13    19     8   0.0  17.0   0.0                          1   \n",
       "1    13    19     8   0.0  17.0   0.0                          0   \n",
       "2    13    19     8   0.0  17.0   0.0                          0   \n",
       "3    13    19     8   0.0  17.0   0.0                          0   \n",
       "4    13    19     8   0.0  17.0   0.0                          0   \n",
       "\n",
       "   start_hour_range_1am-6am  start_hour_range_5pm-7pm  \\\n",
       "0                         0                         0   \n",
       "1                         1                         0   \n",
       "2                         0                         1   \n",
       "3                         0                         0   \n",
       "4                         0                         0   \n",
       "\n",
       "   start_hour_range_7am-9am  start_hour_range_8pm_12am  \n",
       "0                         0                          0  \n",
       "1                         0                          0  \n",
       "2                         0                          0  \n",
       "3                         1                          0  \n",
       "4                         0                          1  "
      ]
     },
     "execution_count": 32,
     "metadata": {},
     "output_type": "execute_result"
    }
   ],
   "source": [
    "chicago_2018_X.head()"
   ]
  },
  {
   "cell_type": "code",
   "execution_count": 33,
   "metadata": {},
   "outputs": [],
   "source": [
    "chicago_2018_Y = chicago_2018_agg[\"trip_count\"].values.reshape(-1, 1)"
   ]
  },
  {
   "cell_type": "code",
   "execution_count": 34,
   "metadata": {},
   "outputs": [
    {
     "name": "stdout",
     "output_type": "stream",
     "text": [
      "(1824, 11) (1824, 1)\n"
     ]
    }
   ],
   "source": [
    "print(chicago_2018_X.shape, chicago_2018_Y.shape)"
   ]
  },
  {
   "cell_type": "code",
   "execution_count": 35,
   "metadata": {},
   "outputs": [],
   "source": [
    "# Split the data into training and testing\n",
    "\n",
    "from sklearn.model_selection import train_test_split\n",
    "X_train_ch, X_test_ch, y_train_ch, y_test_ch = train_test_split(chicago_2018_X, chicago_2018_Y, random_state=42)\n"
   ]
  },
  {
   "cell_type": "code",
   "execution_count": 36,
   "metadata": {},
   "outputs": [],
   "source": [
    "# Create a StandardScater model and fit it to the training data\n",
    "from sklearn.preprocessing import StandardScaler\n",
    "\n",
    "X_scaler_chicago = StandardScaler().fit(X_train_ch)\n",
    "y_scaler_chicago = StandardScaler().fit(y_train_ch)"
   ]
  },
  {
   "cell_type": "code",
   "execution_count": 37,
   "metadata": {},
   "outputs": [],
   "source": [
    "# Transform the training and testing data using the X_scaler and y_scaler models\n",
    "\n",
    "X_train_scaled_ch =  X_scaler_chicago.transform(X_train_ch)\n",
    "X_test_scaled_ch = X_scaler_chicago.transform(X_test_ch)\n",
    "y_train_scaled_ch = y_scaler_chicago.transform(y_train_ch)\n",
    "y_test_scaled_ch = y_scaler_chicago.transform(y_test_ch)"
   ]
  },
  {
   "cell_type": "code",
   "execution_count": 38,
   "metadata": {},
   "outputs": [
    {
     "data": {
      "text/plain": [
       "LinearRegression(copy_X=True, fit_intercept=True, n_jobs=None,\n",
       "         normalize=False)"
      ]
     },
     "execution_count": 38,
     "metadata": {},
     "output_type": "execute_result"
    }
   ],
   "source": [
    "# Create a LinearRegression model and fit it to the scaled training data\n",
    "from sklearn.linear_model import LinearRegression\n",
    "\n",
    "model_ch = LinearRegression()\n",
    "model_ch.fit(X_train_scaled_ch, y_train_scaled_ch)"
   ]
  },
  {
   "cell_type": "code",
   "execution_count": 54,
   "metadata": {},
   "outputs": [
    {
     "data": {
      "image/png": "[encoded data removed]",
      "text/plain": [
       "<Figure size 432x288 with 1 Axes>"
      ]
     },
     "metadata": {
      "needs_background": "light"
     },
     "output_type": "display_data"
    }
   ],
   "source": [
    "# Make predictions using the X_test_scaled data\n",
    "# Plot y_test_scaled vs y_test_scaled\n",
    "# Scatter plot y_test_scaled vs predictions\n",
    "\n",
    "predictions_ch = model_ch.predict(X_test_scaled_ch)\n",
    "model_ch.fit(X_train_scaled_ch, y_train_scaled_ch)\n",
    "\n",
    "plt.scatter(model_ch.predict(X_train_scaled_ch), model_ch.predict(X_train_scaled_ch) - y_train_scaled_ch, c=\"blue\", label=\"Training Data NYC\")\n",
    "plt.scatter(model_ch.predict(X_test_scaled_ch), model_ch.predict(X_test_scaled_ch) - y_test_scaled_ch, c=\"orange\", label=\"Testing Data NYC\")\n",
    "plt.legend()\n",
    "plt.hlines(y=0, xmin=y_test_scaled_ch.min(), xmax=y_test_scaled_ch.max())\n",
    "plt.title(\"Residual Plot - NYC (With Hour-Range)\")\n",
    "\n",
    "plt.savefig(\"residual_nyc_hr.png\", bbox_inches=\"tight\")"
   ]
  },
  {
   "cell_type": "code",
   "execution_count": 40,
   "metadata": {},
   "outputs": [
    {
     "name": "stdout",
     "output_type": "stream",
     "text": [
      "Weight coefficients:  [[-0.11542776  0.23868094  0.254997   -0.16397616 -0.00194334 -0.03917473\n",
      "   0.47510676 -0.39272829  0.14074968 -0.03016749 -0.18195198]]\n",
      "y-axis intercept:  [-7.72320546e-17]\n"
     ]
    }
   ],
   "source": [
    "print('Weight coefficients: ', model_ch.coef_)\n",
    "print('y-axis intercept: ', model_ch.intercept_) "
   ]
  },
  {
   "cell_type": "code",
   "execution_count": 50,
   "metadata": {},
   "outputs": [
    {
     "name": "stdout",
     "output_type": "stream",
     "text": [
      "True output: [-0.8518579]\n",
      "Predicted output: [-0.69116196]\n",
      "Prediction Error: [0.16069594]\n",
      "Prediction Error %: [-18.86417166]\n"
     ]
    }
   ],
   "source": [
    "print(f\"True output: {y_test_scaled_ch[10]}\")\n",
    "print(f\"Predicted output: {predictions_ch[10]}\")\n",
    "print(f\"Prediction Error: {predictions_ch[10] - y_test_scaled_ch[10]}\")\n",
    "print(f\"Prediction Error %: {(predictions_ch[10] - y_test_scaled_ch[10]) / y_test_scaled_ch[10] * 100}\")"
   ]
  },
  {
   "cell_type": "code",
   "execution_count": 49,
   "metadata": {},
   "outputs": [
    {
     "name": "stdout",
     "output_type": "stream",
     "text": [
      "True output: [-1.1561797]\n",
      "Predicted output: [-1.5906272]\n",
      "Prediction Error: [-0.4344475]\n",
      "Prediction Error %: [37.57612252]\n"
     ]
    }
   ],
   "source": [
    "print(f\"True output: {y_test_scaled_ch[32]}\")\n",
    "print(f\"Predicted output: {predictions_ch[32]}\")\n",
    "print(f\"Prediction Error: {predictions_ch[32] - y_test_scaled_ch[32]}\")\n",
    "print(f\"Prediction Error %: {(predictions_ch[32] - y_test_scaled_ch[32]) / y_test_scaled_ch[32] * 100}\")"
   ]
  },
  {
   "cell_type": "code",
   "execution_count": 52,
   "metadata": {},
   "outputs": [
    {
     "name": "stdout",
     "output_type": "stream",
     "text": [
      "True output: [0.72254295]\n",
      "Predicted output: [0.83094377]\n",
      "Prediction Error: [0.10840081]\n",
      "Prediction Error %: [15.00268097]\n"
     ]
    }
   ],
   "source": [
    "print(f\"True output: {y_test_scaled_ch[70]}\")\n",
    "print(f\"Predicted output: {predictions_ch[70]}\")\n",
    "print(f\"Prediction Error: {predictions_ch[70] - y_test_scaled_ch[70]}\")\n",
    "print(f\"Prediction Error %: {(predictions_ch[70] - y_test_scaled_ch[70]) / y_test_scaled_ch[70] * 100}\")"
   ]
  },
  {
   "cell_type": "code",
   "execution_count": 43,
   "metadata": {},
   "outputs": [
    {
     "name": "stdout",
     "output_type": "stream",
     "text": [
      "Mean Squared Error (MSE) - NYC: 0.2802843121958537\n",
      "R-squared (R2 ) - NYC: 0.7280439357750887\n"
     ]
    }
   ],
   "source": [
    "from sklearn.metrics import mean_squared_error, r2_score\n",
    "\n",
    "# Use our model to predict a value\n",
    "predicted_ch = model_ch.predict(X_test_scaled_ch)\n",
    "\n",
    "# Score the prediction with mse and r2\n",
    "mse_ch = mean_squared_error(y_test_scaled_ch, predicted_ch)\n",
    "r2_ch = r2_score(y_test_scaled_ch, predicted_ch)\n",
    "\n",
    "print(f\"Mean Squared Error (MSE) - NYC: {mse_ch}\")\n",
    "print(f\"R-squared (R2 ) - NYC: {r2_ch}\")"
   ]
  },
  {
   "cell_type": "code",
   "execution_count": 44,
   "metadata": {},
   "outputs": [
    {
     "data": {
      "text/plain": [
       "0.7280439357750887"
      ]
     },
     "execution_count": 44,
     "metadata": {},
     "output_type": "execute_result"
    }
   ],
   "source": [
    "model_ch.score(X_test_scaled_ch, y_test_scaled_ch)"
   ]
  },
  {
   "cell_type": "code",
   "execution_count": 53,
   "metadata": {},
   "outputs": [
    {
     "data": {
      "image/png": "[encoded data removed]",
      "text/plain": [
       "<Figure size 864x432 with 2 Axes>"
      ]
     },
     "metadata": {
      "needs_background": "light"
     },
     "output_type": "display_data"
    }
   ],
   "source": [
    "fig1 = plt.figure(figsize=(12, 6))\n",
    "axes1 = fig1.add_subplot(1, 2, 1)\n",
    "axes2 = fig1.add_subplot(1, 2, 2)\n",
    "\n",
    "axes1.set_title(\"Original Data (Trip Count vs. TAVG)\")\n",
    "axes2.set_title(\"Scaled Data (Trip Count vs. TAVG)\")\n",
    "\n",
    "maxx = X_train_ch[\"TAVG\"].max()\n",
    "maxy = y_train_ch.max()\n",
    "axes1.set_xlim(-maxx + 1, maxx + 1)\n",
    "axes1.set_ylim(-maxy + 1, maxy + 1)\n",
    "\n",
    "axes2.set_xlim(-2, 2)\n",
    "axes2.set_ylim(-2, 2)\n",
    "\n",
    "def set_axes(ax):\n",
    "    ax.spines['left'].set_position('center')\n",
    "    ax.spines['right'].set_color('none')\n",
    "    ax.spines['bottom'].set_position('center')\n",
    "    ax.spines['top'].set_color('none')\n",
    "    ax.xaxis.set_ticks_position('bottom')\n",
    "    ax.yaxis.set_ticks_position('left')\n",
    "    \n",
    "set_axes(axes1)\n",
    "set_axes(axes2)\n",
    "\n",
    "axes1.scatter(X_train_ch[\"TAVG\"], y_train_ch)\n",
    "axes2.scatter(X_train_scaled_ch[:,0], y_train_scaled_ch[:])\n",
    "\n",
    "plt.savefig(\"scaled_nyc_hr.png\", bbox_inches=\"tight\")"
   ]
  },
  {
   "cell_type": "code",
   "execution_count": null,
   "metadata": {},
   "outputs": [],
   "source": []
  },
  {
   "cell_type": "code",
   "execution_count": null,
   "metadata": {},
   "outputs": [],
   "source": []
  }
 ],
 "metadata": {
  "kernelspec": {
   "display_name": "Python 3",
   "language": "python",
   "name": "python3"
  },
  "language_info": {
   "codemirror_mode": {
    "name": "ipython",
    "version": 3
   },
   "file_extension": ".py",
   "mimetype": "text/x-python",
   "name": "python",
   "nbconvert_exporter": "python",
   "pygments_lexer": "ipython3",
   "version": "3.6.7"
  }
 },
 "nbformat": 4,
 "nbformat_minor": 2
}
