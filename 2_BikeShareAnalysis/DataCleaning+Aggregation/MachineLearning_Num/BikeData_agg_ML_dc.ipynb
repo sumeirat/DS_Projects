{
 "cells": [
  {
   "cell_type": "markdown",
   "metadata": {},
   "source": [
    "# Washington DC"
   ]
  },
  {
   "cell_type": "code",
   "execution_count": 1,
   "metadata": {},
   "outputs": [],
   "source": [
    "import warnings\n",
    "warnings.filterwarnings('ignore')"
   ]
  },
  {
   "cell_type": "code",
   "execution_count": 2,
   "metadata": {},
   "outputs": [],
   "source": [
    "import matplotlib.pyplot as plt\n",
    "import numpy as np\n",
    "import pandas as pd"
   ]
  },
  {
   "cell_type": "code",
   "execution_count": 3,
   "metadata": {},
   "outputs": [],
   "source": [
    "# Reading merged bike datas for 2018\n",
    "chicago_2018 = pd.read_csv(\"./Resources/Bike_Data/Cleaned/dc_merged_2018.csv\")\n",
    "# dc_2018 = pd.read_csv(\"./Resources/Bike_Data/Cleaned/dc_merged_2018.csv\")\n",
    "# nyc_2018 = pd.read_csv(\"./Resources/Bike_Data/Cleaned/nyc_merged_2018.csv\")"
   ]
  },
  {
   "cell_type": "code",
   "execution_count": 4,
   "metadata": {},
   "outputs": [
    {
     "data": {
      "text/html": [
       "<div>\n",
       "<style scoped>\n",
       "    .dataframe tbody tr th:only-of-type {\n",
       "        vertical-align: middle;\n",
       "    }\n",
       "\n",
       "    .dataframe tbody tr th {\n",
       "        vertical-align: top;\n",
       "    }\n",
       "\n",
       "    .dataframe thead th {\n",
       "        text-align: right;\n",
       "    }\n",
       "</style>\n",
       "<table border=\"1\" class=\"dataframe\">\n",
       "  <thead>\n",
       "    <tr style=\"text-align: right;\">\n",
       "      <th></th>\n",
       "      <th>start_date</th>\n",
       "      <th>start_hour_range</th>\n",
       "      <th>start_station_name</th>\n",
       "      <th>trip_count</th>\n",
       "      <th>trip_duration_avg</th>\n",
       "      <th>TAVG</th>\n",
       "      <th>TMAX</th>\n",
       "      <th>TMIN</th>\n",
       "      <th>PRCP</th>\n",
       "      <th>AWND</th>\n",
       "      <th>SNWD</th>\n",
       "    </tr>\n",
       "  </thead>\n",
       "  <tbody>\n",
       "    <tr>\n",
       "      <th>0</th>\n",
       "      <td>01/01/2018</td>\n",
       "      <td>1am-6am</td>\n",
       "      <td>10th &amp; E St NW</td>\n",
       "      <td>1</td>\n",
       "      <td>436</td>\n",
       "      <td>19</td>\n",
       "      <td>26</td>\n",
       "      <td>13</td>\n",
       "      <td>0.0</td>\n",
       "      <td>11.63</td>\n",
       "      <td>0.0</td>\n",
       "    </tr>\n",
       "    <tr>\n",
       "      <th>1</th>\n",
       "      <td>01/01/2018</td>\n",
       "      <td>1am-6am</td>\n",
       "      <td>10th &amp; K St NW</td>\n",
       "      <td>1</td>\n",
       "      <td>202</td>\n",
       "      <td>19</td>\n",
       "      <td>26</td>\n",
       "      <td>13</td>\n",
       "      <td>0.0</td>\n",
       "      <td>11.63</td>\n",
       "      <td>0.0</td>\n",
       "    </tr>\n",
       "    <tr>\n",
       "      <th>2</th>\n",
       "      <td>01/01/2018</td>\n",
       "      <td>1am-6am</td>\n",
       "      <td>10th &amp; U St NW</td>\n",
       "      <td>1</td>\n",
       "      <td>257</td>\n",
       "      <td>19</td>\n",
       "      <td>26</td>\n",
       "      <td>13</td>\n",
       "      <td>0.0</td>\n",
       "      <td>11.63</td>\n",
       "      <td>0.0</td>\n",
       "    </tr>\n",
       "    <tr>\n",
       "      <th>3</th>\n",
       "      <td>01/01/2018</td>\n",
       "      <td>1am-6am</td>\n",
       "      <td>11th &amp; Girard St NW</td>\n",
       "      <td>1</td>\n",
       "      <td>621</td>\n",
       "      <td>19</td>\n",
       "      <td>26</td>\n",
       "      <td>13</td>\n",
       "      <td>0.0</td>\n",
       "      <td>11.63</td>\n",
       "      <td>0.0</td>\n",
       "    </tr>\n",
       "    <tr>\n",
       "      <th>4</th>\n",
       "      <td>01/01/2018</td>\n",
       "      <td>1am-6am</td>\n",
       "      <td>11th &amp; Kenyon St NW</td>\n",
       "      <td>1</td>\n",
       "      <td>143</td>\n",
       "      <td>19</td>\n",
       "      <td>26</td>\n",
       "      <td>13</td>\n",
       "      <td>0.0</td>\n",
       "      <td>11.63</td>\n",
       "      <td>0.0</td>\n",
       "    </tr>\n",
       "  </tbody>\n",
       "</table>\n",
       "</div>"
      ],
      "text/plain": [
       "   start_date start_hour_range   start_station_name  trip_count  \\\n",
       "0  01/01/2018          1am-6am       10th & E St NW           1   \n",
       "1  01/01/2018          1am-6am       10th & K St NW           1   \n",
       "2  01/01/2018          1am-6am       10th & U St NW           1   \n",
       "3  01/01/2018          1am-6am  11th & Girard St NW           1   \n",
       "4  01/01/2018          1am-6am  11th & Kenyon St NW           1   \n",
       "\n",
       "   trip_duration_avg  TAVG  TMAX  TMIN  PRCP   AWND  SNWD  \n",
       "0                436    19    26    13   0.0  11.63   0.0  \n",
       "1                202    19    26    13   0.0  11.63   0.0  \n",
       "2                257    19    26    13   0.0  11.63   0.0  \n",
       "3                621    19    26    13   0.0  11.63   0.0  \n",
       "4                143    19    26    13   0.0  11.63   0.0  "
      ]
     },
     "execution_count": 4,
     "metadata": {},
     "output_type": "execute_result"
    }
   ],
   "source": [
    "chicago_2018.head()"
   ]
  },
  {
   "cell_type": "code",
   "execution_count": 5,
   "metadata": {},
   "outputs": [
    {
     "data": {
      "text/html": [
       "<div>\n",
       "<style scoped>\n",
       "    .dataframe tbody tr th:only-of-type {\n",
       "        vertical-align: middle;\n",
       "    }\n",
       "\n",
       "    .dataframe tbody tr th {\n",
       "        vertical-align: top;\n",
       "    }\n",
       "\n",
       "    .dataframe thead th {\n",
       "        text-align: right;\n",
       "    }\n",
       "</style>\n",
       "<table border=\"1\" class=\"dataframe\">\n",
       "  <thead>\n",
       "    <tr style=\"text-align: right;\">\n",
       "      <th></th>\n",
       "      <th>start_date</th>\n",
       "      <th>trip_count</th>\n",
       "      <th>TAVG</th>\n",
       "      <th>TMAX</th>\n",
       "      <th>TMIN</th>\n",
       "      <th>PRCP</th>\n",
       "      <th>AWND</th>\n",
       "      <th>SNWD</th>\n",
       "    </tr>\n",
       "  </thead>\n",
       "  <tbody>\n",
       "    <tr>\n",
       "      <th>0</th>\n",
       "      <td>01/01/2018</td>\n",
       "      <td>1213</td>\n",
       "      <td>19</td>\n",
       "      <td>26</td>\n",
       "      <td>13</td>\n",
       "      <td>0.0</td>\n",
       "      <td>11.63</td>\n",
       "      <td>0.0</td>\n",
       "    </tr>\n",
       "    <tr>\n",
       "      <th>1</th>\n",
       "      <td>01/02/2018</td>\n",
       "      <td>3792</td>\n",
       "      <td>18</td>\n",
       "      <td>26</td>\n",
       "      <td>13</td>\n",
       "      <td>0.0</td>\n",
       "      <td>7.83</td>\n",
       "      <td>0.0</td>\n",
       "    </tr>\n",
       "    <tr>\n",
       "      <th>2</th>\n",
       "      <td>01/03/2018</td>\n",
       "      <td>4748</td>\n",
       "      <td>23</td>\n",
       "      <td>35</td>\n",
       "      <td>13</td>\n",
       "      <td>0.0</td>\n",
       "      <td>3.80</td>\n",
       "      <td>0.0</td>\n",
       "    </tr>\n",
       "    <tr>\n",
       "      <th>3</th>\n",
       "      <td>01/04/2018</td>\n",
       "      <td>2368</td>\n",
       "      <td>26</td>\n",
       "      <td>27</td>\n",
       "      <td>16</td>\n",
       "      <td>0.1</td>\n",
       "      <td>19.91</td>\n",
       "      <td>1.2</td>\n",
       "    </tr>\n",
       "    <tr>\n",
       "      <th>4</th>\n",
       "      <td>01/05/2018</td>\n",
       "      <td>2709</td>\n",
       "      <td>17</td>\n",
       "      <td>21</td>\n",
       "      <td>13</td>\n",
       "      <td>0.0</td>\n",
       "      <td>15.66</td>\n",
       "      <td>1.2</td>\n",
       "    </tr>\n",
       "  </tbody>\n",
       "</table>\n",
       "</div>"
      ],
      "text/plain": [
       "   start_date  trip_count  TAVG  TMAX  TMIN  PRCP   AWND  SNWD\n",
       "0  01/01/2018        1213    19    26    13   0.0  11.63   0.0\n",
       "1  01/02/2018        3792    18    26    13   0.0   7.83   0.0\n",
       "2  01/03/2018        4748    23    35    13   0.0   3.80   0.0\n",
       "3  01/04/2018        2368    26    27    16   0.1  19.91   1.2\n",
       "4  01/05/2018        2709    17    21    13   0.0  15.66   1.2"
      ]
     },
     "execution_count": 5,
     "metadata": {},
     "output_type": "execute_result"
    }
   ],
   "source": [
    "chicago_2018_gb = chicago_2018.groupby([\"start_date\"])\n",
    "chicago_2018_agg =chicago_2018_gb.agg({\"trip_count\": \"sum\", \"TAVG\": \"mean\", \"TMAX\": \"mean\",\n",
    "                                       \"TMIN\": \"mean\", \"PRCP\": \"mean\", \"AWND\": \"mean\", \"SNWD\": \"mean\"}) \n",
    "chicago_2018_agg.reset_index(level=[\"start_date\"], inplace=True)\n",
    "chicago_2018_agg.head()"
   ]
  },
  {
   "cell_type": "code",
   "execution_count": 6,
   "metadata": {},
   "outputs": [
    {
     "data": {
      "text/html": [
       "<div>\n",
       "<style scoped>\n",
       "    .dataframe tbody tr th:only-of-type {\n",
       "        vertical-align: middle;\n",
       "    }\n",
       "\n",
       "    .dataframe tbody tr th {\n",
       "        vertical-align: top;\n",
       "    }\n",
       "\n",
       "    .dataframe thead th {\n",
       "        text-align: right;\n",
       "    }\n",
       "</style>\n",
       "<table border=\"1\" class=\"dataframe\">\n",
       "  <thead>\n",
       "    <tr style=\"text-align: right;\">\n",
       "      <th></th>\n",
       "      <th>TAVG</th>\n",
       "      <th>TMAX</th>\n",
       "      <th>TMIN</th>\n",
       "      <th>PRCP</th>\n",
       "      <th>AWND</th>\n",
       "      <th>SNWD</th>\n",
       "    </tr>\n",
       "  </thead>\n",
       "  <tbody>\n",
       "    <tr>\n",
       "      <th>0</th>\n",
       "      <td>19</td>\n",
       "      <td>26</td>\n",
       "      <td>13</td>\n",
       "      <td>0.0</td>\n",
       "      <td>11.63</td>\n",
       "      <td>0.0</td>\n",
       "    </tr>\n",
       "    <tr>\n",
       "      <th>1</th>\n",
       "      <td>18</td>\n",
       "      <td>26</td>\n",
       "      <td>13</td>\n",
       "      <td>0.0</td>\n",
       "      <td>7.83</td>\n",
       "      <td>0.0</td>\n",
       "    </tr>\n",
       "    <tr>\n",
       "      <th>2</th>\n",
       "      <td>23</td>\n",
       "      <td>35</td>\n",
       "      <td>13</td>\n",
       "      <td>0.0</td>\n",
       "      <td>3.80</td>\n",
       "      <td>0.0</td>\n",
       "    </tr>\n",
       "    <tr>\n",
       "      <th>3</th>\n",
       "      <td>26</td>\n",
       "      <td>27</td>\n",
       "      <td>16</td>\n",
       "      <td>0.1</td>\n",
       "      <td>19.91</td>\n",
       "      <td>1.2</td>\n",
       "    </tr>\n",
       "    <tr>\n",
       "      <th>4</th>\n",
       "      <td>17</td>\n",
       "      <td>21</td>\n",
       "      <td>13</td>\n",
       "      <td>0.0</td>\n",
       "      <td>15.66</td>\n",
       "      <td>1.2</td>\n",
       "    </tr>\n",
       "  </tbody>\n",
       "</table>\n",
       "</div>"
      ],
      "text/plain": [
       "   TAVG  TMAX  TMIN  PRCP   AWND  SNWD\n",
       "0    19    26    13   0.0  11.63   0.0\n",
       "1    18    26    13   0.0   7.83   0.0\n",
       "2    23    35    13   0.0   3.80   0.0\n",
       "3    26    27    16   0.1  19.91   1.2\n",
       "4    17    21    13   0.0  15.66   1.2"
      ]
     },
     "execution_count": 6,
     "metadata": {},
     "output_type": "execute_result"
    }
   ],
   "source": [
    "chicago_2018_m = chicago_2018_agg.drop([\"start_date\", \"trip_count\"], axis=1)\n",
    "chicago_2018_m.head()"
   ]
  },
  {
   "cell_type": "code",
   "execution_count": 7,
   "metadata": {},
   "outputs": [
    {
     "data": {
      "text/plain": [
       "Index(['TAVG', 'TMAX', 'TMIN', 'PRCP', 'AWND', 'SNWD'], dtype='object')"
      ]
     },
     "execution_count": 7,
     "metadata": {},
     "output_type": "execute_result"
    }
   ],
   "source": [
    "chicago_2018_X = pd.get_dummies(chicago_2018_m)\n",
    "chicago_2018_X.columns"
   ]
  },
  {
   "cell_type": "code",
   "execution_count": 8,
   "metadata": {},
   "outputs": [
    {
     "data": {
      "text/html": [
       "<div>\n",
       "<style scoped>\n",
       "    .dataframe tbody tr th:only-of-type {\n",
       "        vertical-align: middle;\n",
       "    }\n",
       "\n",
       "    .dataframe tbody tr th {\n",
       "        vertical-align: top;\n",
       "    }\n",
       "\n",
       "    .dataframe thead th {\n",
       "        text-align: right;\n",
       "    }\n",
       "</style>\n",
       "<table border=\"1\" class=\"dataframe\">\n",
       "  <thead>\n",
       "    <tr style=\"text-align: right;\">\n",
       "      <th></th>\n",
       "      <th>TAVG</th>\n",
       "      <th>TMAX</th>\n",
       "      <th>TMIN</th>\n",
       "      <th>PRCP</th>\n",
       "      <th>AWND</th>\n",
       "      <th>SNWD</th>\n",
       "    </tr>\n",
       "  </thead>\n",
       "  <tbody>\n",
       "    <tr>\n",
       "      <th>0</th>\n",
       "      <td>19</td>\n",
       "      <td>26</td>\n",
       "      <td>13</td>\n",
       "      <td>0.0</td>\n",
       "      <td>11.63</td>\n",
       "      <td>0.0</td>\n",
       "    </tr>\n",
       "    <tr>\n",
       "      <th>1</th>\n",
       "      <td>18</td>\n",
       "      <td>26</td>\n",
       "      <td>13</td>\n",
       "      <td>0.0</td>\n",
       "      <td>7.83</td>\n",
       "      <td>0.0</td>\n",
       "    </tr>\n",
       "    <tr>\n",
       "      <th>2</th>\n",
       "      <td>23</td>\n",
       "      <td>35</td>\n",
       "      <td>13</td>\n",
       "      <td>0.0</td>\n",
       "      <td>3.80</td>\n",
       "      <td>0.0</td>\n",
       "    </tr>\n",
       "    <tr>\n",
       "      <th>3</th>\n",
       "      <td>26</td>\n",
       "      <td>27</td>\n",
       "      <td>16</td>\n",
       "      <td>0.1</td>\n",
       "      <td>19.91</td>\n",
       "      <td>1.2</td>\n",
       "    </tr>\n",
       "    <tr>\n",
       "      <th>4</th>\n",
       "      <td>17</td>\n",
       "      <td>21</td>\n",
       "      <td>13</td>\n",
       "      <td>0.0</td>\n",
       "      <td>15.66</td>\n",
       "      <td>1.2</td>\n",
       "    </tr>\n",
       "  </tbody>\n",
       "</table>\n",
       "</div>"
      ],
      "text/plain": [
       "   TAVG  TMAX  TMIN  PRCP   AWND  SNWD\n",
       "0    19    26    13   0.0  11.63   0.0\n",
       "1    18    26    13   0.0   7.83   0.0\n",
       "2    23    35    13   0.0   3.80   0.0\n",
       "3    26    27    16   0.1  19.91   1.2\n",
       "4    17    21    13   0.0  15.66   1.2"
      ]
     },
     "execution_count": 8,
     "metadata": {},
     "output_type": "execute_result"
    }
   ],
   "source": [
    "chicago_2018_X.head()"
   ]
  },
  {
   "cell_type": "code",
   "execution_count": 9,
   "metadata": {},
   "outputs": [],
   "source": [
    "chicago_2018_Y = chicago_2018_agg[\"trip_count\"].values.reshape(-1, 1)"
   ]
  },
  {
   "cell_type": "code",
   "execution_count": 10,
   "metadata": {},
   "outputs": [
    {
     "name": "stdout",
     "output_type": "stream",
     "text": [
      "(365, 6) (365, 1)\n"
     ]
    }
   ],
   "source": [
    "print(chicago_2018_X.shape, chicago_2018_Y.shape)"
   ]
  },
  {
   "cell_type": "code",
   "execution_count": 11,
   "metadata": {},
   "outputs": [],
   "source": [
    "# Split the data into training and testing\n",
    "\n",
    "from sklearn.model_selection import train_test_split\n",
    "X_train_ch, X_test_ch, y_train_ch, y_test_ch = train_test_split(chicago_2018_X, chicago_2018_Y, random_state=42)\n"
   ]
  },
  {
   "cell_type": "code",
   "execution_count": 12,
   "metadata": {},
   "outputs": [],
   "source": [
    "# Create a StandardScater model and fit it to the training data\n",
    "from sklearn.preprocessing import StandardScaler\n",
    "\n",
    "X_scaler_chicago = StandardScaler().fit(X_train_ch)\n",
    "y_scaler_chicago = StandardScaler().fit(y_train_ch)"
   ]
  },
  {
   "cell_type": "code",
   "execution_count": 13,
   "metadata": {},
   "outputs": [],
   "source": [
    "# Transform the training and testing data using the X_scaler and y_scaler models\n",
    "\n",
    "X_train_scaled_ch =  X_scaler_chicago.transform(X_train_ch)\n",
    "X_test_scaled_ch = X_scaler_chicago.transform(X_test_ch)\n",
    "y_train_scaled_ch = y_scaler_chicago.transform(y_train_ch)\n",
    "y_test_scaled_ch = y_scaler_chicago.transform(y_test_ch)"
   ]
  },
  {
   "cell_type": "code",
   "execution_count": 14,
   "metadata": {},
   "outputs": [
    {
     "data": {
      "text/plain": [
       "LinearRegression(copy_X=True, fit_intercept=True, n_jobs=None,\n",
       "         normalize=False)"
      ]
     },
     "execution_count": 14,
     "metadata": {},
     "output_type": "execute_result"
    }
   ],
   "source": [
    "# Create a LinearRegression model and fit it to the scaled training data\n",
    "from sklearn.linear_model import LinearRegression\n",
    "\n",
    "model_ch = LinearRegression()\n",
    "model_ch.fit(X_train_scaled_ch, y_train_scaled_ch)"
   ]
  },
  {
   "cell_type": "code",
   "execution_count": 15,
   "metadata": {},
   "outputs": [
    {
     "data": {
      "image/png": "[encoded data removed]",
      "text/plain": [
       "<Figure size 432x288 with 1 Axes>"
      ]
     },
     "metadata": {
      "needs_background": "light"
     },
     "output_type": "display_data"
    }
   ],
   "source": [
    "# Make predictions using the X_test_scaled data\n",
    "# Plot y_test_scaled vs y_test_scaled\n",
    "# Scatter plot y_test_scaled vs predictions\n",
    "\n",
    "predictions_ch = model_ch.predict(X_test_scaled_ch)\n",
    "model_ch.fit(X_train_scaled_ch, y_train_scaled_ch)\n",
    "\n",
    "plt.scatter(model_ch.predict(X_train_scaled_ch), model_ch.predict(X_train_scaled_ch) - y_train_scaled_ch, c=\"blue\", label=\"Training Data DC\")\n",
    "plt.scatter(model_ch.predict(X_test_scaled_ch), model_ch.predict(X_test_scaled_ch) - y_test_scaled_ch, c=\"orange\", label=\"Testing Data DC\")\n",
    "plt.legend()\n",
    "plt.hlines(y=0, xmin=y_test_scaled_ch.min(), xmax=y_test_scaled_ch.max())\n",
    "plt.title(\"Residual Plot - Washington DC\")\n",
    "\n",
    "plt.savefig(\"residual_dc.png\", bbox_inches=\"tight\")"
   ]
  },
  {
   "cell_type": "code",
   "execution_count": 16,
   "metadata": {},
   "outputs": [
    {
     "name": "stdout",
     "output_type": "stream",
     "text": [
      "Weight coefficients:  [[ 2.30913442e-02  9.38003581e-01 -1.62138701e-01 -3.27533040e-01\n",
      "   1.32695467e-02  3.76612859e-04]]\n",
      "y-axis intercept:  [2.25461157e-16]\n"
     ]
    }
   ],
   "source": [
    "print('Weight coefficients: ', model_ch.coef_)\n",
    "print('y-axis intercept: ', model_ch.intercept_) "
   ]
  },
  {
   "cell_type": "code",
   "execution_count": 17,
   "metadata": {},
   "outputs": [
    {
     "name": "stdout",
     "output_type": "stream",
     "text": [
      "True output: [-0.89702358]\n",
      "Predicted output: [-1.20758389]\n",
      "Prediction Error: [-0.3105603]\n",
      "Prediction Error %: [34.62119711]\n"
     ]
    }
   ],
   "source": [
    "print(f\"True output: {y_test_scaled_ch[10]}\")\n",
    "print(f\"Predicted output: {predictions_ch[10]}\")\n",
    "print(f\"Prediction Error: {predictions_ch[10] - y_test_scaled_ch[10]}\")\n",
    "print(f\"Prediction Error %: {(predictions_ch[10] - y_test_scaled_ch[10]) / y_test_scaled_ch[10] * 100}\")"
   ]
  },
  {
   "cell_type": "code",
   "execution_count": 18,
   "metadata": {},
   "outputs": [
    {
     "name": "stdout",
     "output_type": "stream",
     "text": [
      "True output: [-0.92736975]\n",
      "Predicted output: [-1.09299154]\n",
      "Prediction Error: [-0.16562178]\n",
      "Prediction Error %: [17.8593042]\n"
     ]
    }
   ],
   "source": [
    "print(f\"True output: {y_test_scaled_ch[42]}\")\n",
    "print(f\"Predicted output: {predictions_ch[42]}\")\n",
    "print(f\"Prediction Error: {predictions_ch[42] - y_test_scaled_ch[42]}\")\n",
    "print(f\"Prediction Error %: {(predictions_ch[42] - y_test_scaled_ch[42]) / y_test_scaled_ch[42] * 100}\")"
   ]
  },
  {
   "cell_type": "code",
   "execution_count": 28,
   "metadata": {},
   "outputs": [
    {
     "name": "stdout",
     "output_type": "stream",
     "text": [
      "True output: [-0.76773362]\n",
      "Predicted output: [-0.89795937]\n",
      "Prediction Error: [-0.13022575]\n",
      "Prediction Error %: [16.96236187]\n"
     ]
    }
   ],
   "source": [
    "print(f\"True output: {y_test_scaled_ch[11]}\")\n",
    "print(f\"Predicted output: {predictions_ch[11]}\")\n",
    "print(f\"Prediction Error: {predictions_ch[11] - y_test_scaled_ch[11]}\")\n",
    "print(f\"Prediction Error %: {(predictions_ch[11] - y_test_scaled_ch[11]) / y_test_scaled_ch[11] * 100}\")"
   ]
  },
  {
   "cell_type": "code",
   "execution_count": 20,
   "metadata": {},
   "outputs": [
    {
     "name": "stdout",
     "output_type": "stream",
     "text": [
      "Mean Squared Error (MSE) - Washington DC: 0.22957469333882302\n",
      "R-squared (R2 ) - Washington DC: 0.7623742023430067\n"
     ]
    }
   ],
   "source": [
    "from sklearn.metrics import mean_squared_error, r2_score\n",
    "\n",
    "# Use our model to predict a value\n",
    "predicted_ch = model_ch.predict(X_test_scaled_ch)\n",
    "\n",
    "# Score the prediction with mse and r2\n",
    "mse_ch = mean_squared_error(y_test_scaled_ch, predicted_ch)\n",
    "r2_ch = r2_score(y_test_scaled_ch, predicted_ch)\n",
    "\n",
    "print(f\"Mean Squared Error (MSE) - Washington DC: {mse_ch}\")\n",
    "print(f\"R-squared (R2 ) - Washington DC: {r2_ch}\")"
   ]
  },
  {
   "cell_type": "code",
   "execution_count": 21,
   "metadata": {},
   "outputs": [
    {
     "data": {
      "text/plain": [
       "0.7623742023430067"
      ]
     },
     "execution_count": 21,
     "metadata": {},
     "output_type": "execute_result"
    }
   ],
   "source": [
    "model_ch.score(X_test_scaled_ch, y_test_scaled_ch)"
   ]
  },
  {
   "cell_type": "code",
   "execution_count": 22,
   "metadata": {},
   "outputs": [
    {
     "data": {
      "image/png": "[encoded data removed]",
      "text/plain": [
       "<Figure size 864x432 with 2 Axes>"
      ]
     },
     "metadata": {
      "needs_background": "light"
     },
     "output_type": "display_data"
    }
   ],
   "source": [
    "fig1 = plt.figure(figsize=(12, 6))\n",
    "axes1 = fig1.add_subplot(1, 2, 1)\n",
    "axes2 = fig1.add_subplot(1, 2, 2)\n",
    "\n",
    "axes1.set_title(\"Original Data (Trip Count vs. TAVG)\")\n",
    "axes2.set_title(\"Scaled Data (Trip Count vs. TAVG)\")\n",
    "\n",
    "maxx = X_train_ch[\"TAVG\"].max()\n",
    "maxy = y_train_ch.max()\n",
    "axes1.set_xlim(-maxx + 1, maxx + 1)\n",
    "axes1.set_ylim(-maxy + 1, maxy + 1)\n",
    "\n",
    "axes2.set_xlim(-2, 2)\n",
    "axes2.set_ylim(-2, 2)\n",
    "\n",
    "def set_axes(ax):\n",
    "    ax.spines['left'].set_position('center')\n",
    "    ax.spines['right'].set_color('none')\n",
    "    ax.spines['bottom'].set_position('center')\n",
    "    ax.spines['top'].set_color('none')\n",
    "    ax.xaxis.set_ticks_position('bottom')\n",
    "    ax.yaxis.set_ticks_position('left')\n",
    "    \n",
    "set_axes(axes1)\n",
    "set_axes(axes2)\n",
    "\n",
    "axes1.scatter(X_train_ch[\"TAVG\"], y_train_ch)\n",
    "axes2.scatter(X_train_scaled_ch[:,0], y_train_scaled_ch[:])\n",
    "\n",
    "plt.savefig(\"scaled_dc.png\", bbox_inches=\"tight\")"
   ]
  },
  {
   "cell_type": "code",
   "execution_count": null,
   "metadata": {},
   "outputs": [],
   "source": []
  },
  {
   "cell_type": "code",
   "execution_count": null,
   "metadata": {},
   "outputs": [],
   "source": []
  }
 ],
 "metadata": {
  "kernelspec": {
   "display_name": "Python 3",
   "language": "python",
   "name": "python3"
  },
  "language_info": {
   "codemirror_mode": {
    "name": "ipython",
    "version": 3
   },
   "file_extension": ".py",
   "mimetype": "text/x-python",
   "name": "python",
   "nbconvert_exporter": "python",
   "pygments_lexer": "ipython3",
   "version": "3.6.7"
  }
 },
 "nbformat": 4,
 "nbformat_minor": 2
}
