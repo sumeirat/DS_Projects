{
 "cells": [
  {
   "cell_type": "code",
   "execution_count": 1,
   "metadata": {},
   "outputs": [],
   "source": [
    "import matplotlib.pyplot as plt\n",
    "import numpy as np\n",
    "import pandas as pd"
   ]
  },
  {
   "cell_type": "code",
   "execution_count": 2,
   "metadata": {},
   "outputs": [],
   "source": [
    "# Reading merged bike datas for 2018\n",
    "chicago_2018 = pd.read_csv(\"./Resources/Bike_Data/Cleaned/chicago_merged_2018.csv\")\n",
    "dc_2018 = pd.read_csv(\"./Resources/Bike_Data/Cleaned/dc_merged_2018.csv\")\n",
    "nyc_2018 = pd.read_csv(\"./Resources/Bike_Data/Cleaned/nyc_merged_2018.csv\")"
   ]
  },
  {
   "cell_type": "code",
   "execution_count": 3,
   "metadata": {},
   "outputs": [
    {
     "data": {
      "text/html": [
       "<div>\n",
       "<style scoped>\n",
       "    .dataframe tbody tr th:only-of-type {\n",
       "        vertical-align: middle;\n",
       "    }\n",
       "\n",
       "    .dataframe tbody tr th {\n",
       "        vertical-align: top;\n",
       "    }\n",
       "\n",
       "    .dataframe thead th {\n",
       "        text-align: right;\n",
       "    }\n",
       "</style>\n",
       "<table border=\"1\" class=\"dataframe\">\n",
       "  <thead>\n",
       "    <tr style=\"text-align: right;\">\n",
       "      <th></th>\n",
       "      <th>start_date</th>\n",
       "      <th>start_hour_range</th>\n",
       "      <th>start_station_name</th>\n",
       "      <th>trip_count</th>\n",
       "      <th>trip_duration_avg</th>\n",
       "      <th>TAVG</th>\n",
       "      <th>TMAX</th>\n",
       "      <th>TMIN</th>\n",
       "      <th>PRCP</th>\n",
       "      <th>AWND</th>\n",
       "      <th>SNWD</th>\n",
       "    </tr>\n",
       "  </thead>\n",
       "  <tbody>\n",
       "    <tr>\n",
       "      <th>0</th>\n",
       "      <td>01/01/2018</td>\n",
       "      <td>1am-6am</td>\n",
       "      <td>Broadway &amp; Belmont Ave</td>\n",
       "      <td>1</td>\n",
       "      <td>448</td>\n",
       "      <td>-2</td>\n",
       "      <td>1</td>\n",
       "      <td>-9</td>\n",
       "      <td>0.0</td>\n",
       "      <td>10.74</td>\n",
       "      <td>1.2</td>\n",
       "    </tr>\n",
       "    <tr>\n",
       "      <th>1</th>\n",
       "      <td>01/01/2018</td>\n",
       "      <td>1am-6am</td>\n",
       "      <td>Broadway &amp; Cornelia Ave</td>\n",
       "      <td>1</td>\n",
       "      <td>261</td>\n",
       "      <td>-2</td>\n",
       "      <td>1</td>\n",
       "      <td>-9</td>\n",
       "      <td>0.0</td>\n",
       "      <td>10.74</td>\n",
       "      <td>1.2</td>\n",
       "    </tr>\n",
       "    <tr>\n",
       "      <th>2</th>\n",
       "      <td>01/01/2018</td>\n",
       "      <td>1am-6am</td>\n",
       "      <td>California Ave &amp; North Ave</td>\n",
       "      <td>1</td>\n",
       "      <td>498</td>\n",
       "      <td>-2</td>\n",
       "      <td>1</td>\n",
       "      <td>-9</td>\n",
       "      <td>0.0</td>\n",
       "      <td>10.74</td>\n",
       "      <td>1.2</td>\n",
       "    </tr>\n",
       "    <tr>\n",
       "      <th>3</th>\n",
       "      <td>01/01/2018</td>\n",
       "      <td>1am-6am</td>\n",
       "      <td>Clarendon Ave &amp; Gordon Ter</td>\n",
       "      <td>1</td>\n",
       "      <td>310</td>\n",
       "      <td>-2</td>\n",
       "      <td>1</td>\n",
       "      <td>-9</td>\n",
       "      <td>0.0</td>\n",
       "      <td>10.74</td>\n",
       "      <td>1.2</td>\n",
       "    </tr>\n",
       "    <tr>\n",
       "      <th>4</th>\n",
       "      <td>01/01/2018</td>\n",
       "      <td>1am-6am</td>\n",
       "      <td>Clark St &amp; Grace St</td>\n",
       "      <td>1</td>\n",
       "      <td>320</td>\n",
       "      <td>-2</td>\n",
       "      <td>1</td>\n",
       "      <td>-9</td>\n",
       "      <td>0.0</td>\n",
       "      <td>10.74</td>\n",
       "      <td>1.2</td>\n",
       "    </tr>\n",
       "  </tbody>\n",
       "</table>\n",
       "</div>"
      ],
      "text/plain": [
       "   start_date start_hour_range          start_station_name  trip_count  \\\n",
       "0  01/01/2018          1am-6am      Broadway & Belmont Ave           1   \n",
       "1  01/01/2018          1am-6am     Broadway & Cornelia Ave           1   \n",
       "2  01/01/2018          1am-6am  California Ave & North Ave           1   \n",
       "3  01/01/2018          1am-6am  Clarendon Ave & Gordon Ter           1   \n",
       "4  01/01/2018          1am-6am         Clark St & Grace St           1   \n",
       "\n",
       "   trip_duration_avg  TAVG  TMAX  TMIN  PRCP   AWND  SNWD  \n",
       "0                448    -2     1    -9   0.0  10.74   1.2  \n",
       "1                261    -2     1    -9   0.0  10.74   1.2  \n",
       "2                498    -2     1    -9   0.0  10.74   1.2  \n",
       "3                310    -2     1    -9   0.0  10.74   1.2  \n",
       "4                320    -2     1    -9   0.0  10.74   1.2  "
      ]
     },
     "execution_count": 3,
     "metadata": {},
     "output_type": "execute_result"
    }
   ],
   "source": [
    "chicago_2018.head()"
   ]
  },
  {
   "cell_type": "code",
   "execution_count": 4,
   "metadata": {},
   "outputs": [],
   "source": [
    "# chicago_2018_gb = chicago_2018.groupby([\"start_station_name\"])\n",
    "# chicago_2018_agg =chicago_2018_gb.agg({\"trip_count\": \"sum\"}) \n",
    "# chicago_2018_agg.reset_index(level=[\"start_station_name\"], inplace=True)\n",
    "# chicago_2018_agg.sort_values(by='trip_count', ascending=False).head()"
   ]
  },
  {
   "cell_type": "code",
   "execution_count": 5,
   "metadata": {},
   "outputs": [],
   "source": [
    "# chicago_2018_gb = chicago_2018.groupby([\"start_date\", \"start_station_name\"])\n",
    "# chicago_2018_agg =chicago_2018_gb.agg({\"trip_count\": \"sum\", \"TAVG\": \"mean\", \"TMAX\": \"mean\",\n",
    "#                                        \"TMIN\": \"mean\", \"PRCP\": \"mean\", \"AWND\": \"mean\", \"SNWD\": \"mean\"}) \n",
    "# chicago_2018_agg.reset_index(level=[\"start_date\", \"start_station_name\"], inplace=True)\n",
    "\n",
    "# chicago_2018_agg = chicago_2018_agg[chicago_2018_agg[\"start_station_name\"] == \"Streeter Dr & Grand Ave\"]\n",
    "# chicago_2018_agg.head()"
   ]
  },
  {
   "cell_type": "code",
   "execution_count": 55,
   "metadata": {},
   "outputs": [
    {
     "data": {
      "text/html": [
       "<div>\n",
       "<style scoped>\n",
       "    .dataframe tbody tr th:only-of-type {\n",
       "        vertical-align: middle;\n",
       "    }\n",
       "\n",
       "    .dataframe tbody tr th {\n",
       "        vertical-align: top;\n",
       "    }\n",
       "\n",
       "    .dataframe thead th {\n",
       "        text-align: right;\n",
       "    }\n",
       "</style>\n",
       "<table border=\"1\" class=\"dataframe\">\n",
       "  <thead>\n",
       "    <tr style=\"text-align: right;\">\n",
       "      <th></th>\n",
       "      <th>start_date</th>\n",
       "      <th>start_hour_range</th>\n",
       "      <th>trip_count</th>\n",
       "      <th>TAVG</th>\n",
       "      <th>TMAX</th>\n",
       "      <th>TMIN</th>\n",
       "      <th>PRCP</th>\n",
       "      <th>AWND</th>\n",
       "      <th>SNWD</th>\n",
       "    </tr>\n",
       "  </thead>\n",
       "  <tbody>\n",
       "    <tr>\n",
       "      <th>0</th>\n",
       "      <td>01/01/2018</td>\n",
       "      <td>10am-4pm</td>\n",
       "      <td>209</td>\n",
       "      <td>-2</td>\n",
       "      <td>1</td>\n",
       "      <td>-9</td>\n",
       "      <td>0.0</td>\n",
       "      <td>10.74</td>\n",
       "      <td>1.2</td>\n",
       "    </tr>\n",
       "    <tr>\n",
       "      <th>1</th>\n",
       "      <td>01/01/2018</td>\n",
       "      <td>1am-6am</td>\n",
       "      <td>37</td>\n",
       "      <td>-2</td>\n",
       "      <td>1</td>\n",
       "      <td>-9</td>\n",
       "      <td>0.0</td>\n",
       "      <td>10.74</td>\n",
       "      <td>1.2</td>\n",
       "    </tr>\n",
       "    <tr>\n",
       "      <th>2</th>\n",
       "      <td>01/01/2018</td>\n",
       "      <td>5pm-7pm</td>\n",
       "      <td>53</td>\n",
       "      <td>-2</td>\n",
       "      <td>1</td>\n",
       "      <td>-9</td>\n",
       "      <td>0.0</td>\n",
       "      <td>10.74</td>\n",
       "      <td>1.2</td>\n",
       "    </tr>\n",
       "    <tr>\n",
       "      <th>3</th>\n",
       "      <td>01/01/2018</td>\n",
       "      <td>7am-9am</td>\n",
       "      <td>22</td>\n",
       "      <td>-2</td>\n",
       "      <td>1</td>\n",
       "      <td>-9</td>\n",
       "      <td>0.0</td>\n",
       "      <td>10.74</td>\n",
       "      <td>1.2</td>\n",
       "    </tr>\n",
       "    <tr>\n",
       "      <th>4</th>\n",
       "      <td>01/01/2018</td>\n",
       "      <td>8pm_12am</td>\n",
       "      <td>55</td>\n",
       "      <td>-2</td>\n",
       "      <td>1</td>\n",
       "      <td>-9</td>\n",
       "      <td>0.0</td>\n",
       "      <td>10.74</td>\n",
       "      <td>1.2</td>\n",
       "    </tr>\n",
       "  </tbody>\n",
       "</table>\n",
       "</div>"
      ],
      "text/plain": [
       "   start_date start_hour_range  trip_count  TAVG  TMAX  TMIN  PRCP   AWND  \\\n",
       "0  01/01/2018         10am-4pm         209    -2     1    -9   0.0  10.74   \n",
       "1  01/01/2018          1am-6am          37    -2     1    -9   0.0  10.74   \n",
       "2  01/01/2018          5pm-7pm          53    -2     1    -9   0.0  10.74   \n",
       "3  01/01/2018          7am-9am          22    -2     1    -9   0.0  10.74   \n",
       "4  01/01/2018         8pm_12am          55    -2     1    -9   0.0  10.74   \n",
       "\n",
       "   SNWD  \n",
       "0   1.2  \n",
       "1   1.2  \n",
       "2   1.2  \n",
       "3   1.2  \n",
       "4   1.2  "
      ]
     },
     "execution_count": 55,
     "metadata": {},
     "output_type": "execute_result"
    }
   ],
   "source": [
    "chicago_2018_gb = chicago_2018.groupby([\"start_date\", \"start_hour_range\"])\n",
    "chicago_2018_agg =chicago_2018_gb.agg({\"trip_count\": \"sum\", \"TAVG\": \"mean\", \"TMAX\": \"mean\",\n",
    "                                       \"TMIN\": \"mean\", \"PRCP\": \"mean\", \"AWND\": \"mean\", \"SNWD\": \"mean\"}) \n",
    "chicago_2018_agg.reset_index(level=[\"start_date\", \"start_hour_range\"], inplace=True)\n",
    "chicago_2018_agg.head()"
   ]
  },
  {
   "cell_type": "code",
   "execution_count": 4,
   "metadata": {},
   "outputs": [
    {
     "data": {
      "text/html": [
       "<div>\n",
       "<style scoped>\n",
       "    .dataframe tbody tr th:only-of-type {\n",
       "        vertical-align: middle;\n",
       "    }\n",
       "\n",
       "    .dataframe tbody tr th {\n",
       "        vertical-align: top;\n",
       "    }\n",
       "\n",
       "    .dataframe thead th {\n",
       "        text-align: right;\n",
       "    }\n",
       "</style>\n",
       "<table border=\"1\" class=\"dataframe\">\n",
       "  <thead>\n",
       "    <tr style=\"text-align: right;\">\n",
       "      <th></th>\n",
       "      <th>start_date</th>\n",
       "      <th>start_hour_range</th>\n",
       "      <th>trip_count</th>\n",
       "      <th>TAVG</th>\n",
       "      <th>PRCP</th>\n",
       "    </tr>\n",
       "  </thead>\n",
       "  <tbody>\n",
       "    <tr>\n",
       "      <th>0</th>\n",
       "      <td>01/01/2018</td>\n",
       "      <td>10am-4pm</td>\n",
       "      <td>209</td>\n",
       "      <td>-2</td>\n",
       "      <td>0.0</td>\n",
       "    </tr>\n",
       "    <tr>\n",
       "      <th>1</th>\n",
       "      <td>01/01/2018</td>\n",
       "      <td>1am-6am</td>\n",
       "      <td>37</td>\n",
       "      <td>-2</td>\n",
       "      <td>0.0</td>\n",
       "    </tr>\n",
       "    <tr>\n",
       "      <th>2</th>\n",
       "      <td>01/01/2018</td>\n",
       "      <td>5pm-7pm</td>\n",
       "      <td>53</td>\n",
       "      <td>-2</td>\n",
       "      <td>0.0</td>\n",
       "    </tr>\n",
       "    <tr>\n",
       "      <th>3</th>\n",
       "      <td>01/01/2018</td>\n",
       "      <td>7am-9am</td>\n",
       "      <td>22</td>\n",
       "      <td>-2</td>\n",
       "      <td>0.0</td>\n",
       "    </tr>\n",
       "    <tr>\n",
       "      <th>4</th>\n",
       "      <td>01/01/2018</td>\n",
       "      <td>8pm_12am</td>\n",
       "      <td>55</td>\n",
       "      <td>-2</td>\n",
       "      <td>0.0</td>\n",
       "    </tr>\n",
       "  </tbody>\n",
       "</table>\n",
       "</div>"
      ],
      "text/plain": [
       "   start_date start_hour_range  trip_count  TAVG  PRCP\n",
       "0  01/01/2018         10am-4pm         209    -2   0.0\n",
       "1  01/01/2018          1am-6am          37    -2   0.0\n",
       "2  01/01/2018          5pm-7pm          53    -2   0.0\n",
       "3  01/01/2018          7am-9am          22    -2   0.0\n",
       "4  01/01/2018         8pm_12am          55    -2   0.0"
      ]
     },
     "execution_count": 4,
     "metadata": {},
     "output_type": "execute_result"
    }
   ],
   "source": [
    "# chicago_2018_gb = chicago_2018.groupby([\"start_date\", \"start_hour_range\"])\n",
    "# chicago_2018_agg =chicago_2018_gb.agg({\"trip_count\": \"sum\", \"TAVG\": \"mean\", \"PRCP\": \"mean\"}) \n",
    "# chicago_2018_agg.reset_index(level=[\"start_date\", \"start_hour_range\"], inplace=True)\n",
    "# chicago_2018_agg.head()"
   ]
  },
  {
   "cell_type": "code",
   "execution_count": 56,
   "metadata": {},
   "outputs": [],
   "source": [
    "# chicago_2018_gb = chicago_2018.groupby([\"start_date\"])\n",
    "# chicago_2018_agg =chicago_2018_gb.agg({\"trip_count\": \"sum\", \"TAVG\": \"mean\", \"TMAX\": \"mean\",\n",
    "#                                        \"TMIN\": \"mean\", \"PRCP\": \"mean\", \"AWND\": \"mean\", \"SNWD\": \"mean\"}) \n",
    "# chicago_2018_agg.reset_index(level=[\"start_date\"], inplace=True)\n",
    "# chicago_2018_agg.head()"
   ]
  },
  {
   "cell_type": "code",
   "execution_count": 5,
   "metadata": {},
   "outputs": [
    {
     "data": {
      "text/html": [
       "<div>\n",
       "<style scoped>\n",
       "    .dataframe tbody tr th:only-of-type {\n",
       "        vertical-align: middle;\n",
       "    }\n",
       "\n",
       "    .dataframe tbody tr th {\n",
       "        vertical-align: top;\n",
       "    }\n",
       "\n",
       "    .dataframe thead th {\n",
       "        text-align: right;\n",
       "    }\n",
       "</style>\n",
       "<table border=\"1\" class=\"dataframe\">\n",
       "  <thead>\n",
       "    <tr style=\"text-align: right;\">\n",
       "      <th></th>\n",
       "      <th>start_hour_range</th>\n",
       "      <th>TAVG</th>\n",
       "      <th>PRCP</th>\n",
       "    </tr>\n",
       "  </thead>\n",
       "  <tbody>\n",
       "    <tr>\n",
       "      <th>0</th>\n",
       "      <td>10am-4pm</td>\n",
       "      <td>-2</td>\n",
       "      <td>0.0</td>\n",
       "    </tr>\n",
       "    <tr>\n",
       "      <th>1</th>\n",
       "      <td>1am-6am</td>\n",
       "      <td>-2</td>\n",
       "      <td>0.0</td>\n",
       "    </tr>\n",
       "    <tr>\n",
       "      <th>2</th>\n",
       "      <td>5pm-7pm</td>\n",
       "      <td>-2</td>\n",
       "      <td>0.0</td>\n",
       "    </tr>\n",
       "    <tr>\n",
       "      <th>3</th>\n",
       "      <td>7am-9am</td>\n",
       "      <td>-2</td>\n",
       "      <td>0.0</td>\n",
       "    </tr>\n",
       "    <tr>\n",
       "      <th>4</th>\n",
       "      <td>8pm_12am</td>\n",
       "      <td>-2</td>\n",
       "      <td>0.0</td>\n",
       "    </tr>\n",
       "  </tbody>\n",
       "</table>\n",
       "</div>"
      ],
      "text/plain": [
       "  start_hour_range  TAVG  PRCP\n",
       "0         10am-4pm    -2   0.0\n",
       "1          1am-6am    -2   0.0\n",
       "2          5pm-7pm    -2   0.0\n",
       "3          7am-9am    -2   0.0\n",
       "4         8pm_12am    -2   0.0"
      ]
     },
     "execution_count": 5,
     "metadata": {},
     "output_type": "execute_result"
    }
   ],
   "source": [
    "chicago_2018_m = chicago_2018_agg.drop([\"start_date\", \"trip_count\"], axis=1)\n",
    "chicago_2018_m.head()"
   ]
  },
  {
   "cell_type": "code",
   "execution_count": 6,
   "metadata": {},
   "outputs": [
    {
     "data": {
      "text/plain": [
       "Index(['TAVG', 'PRCP', 'start_hour_range_10am-4pm', 'start_hour_range_1am-6am',\n",
       "       'start_hour_range_5pm-7pm', 'start_hour_range_7am-9am',\n",
       "       'start_hour_range_8pm_12am'],\n",
       "      dtype='object')"
      ]
     },
     "execution_count": 6,
     "metadata": {},
     "output_type": "execute_result"
    }
   ],
   "source": [
    "chicago_2018_X = pd.get_dummies(chicago_2018_m)\n",
    "chicago_2018_X.columns"
   ]
  },
  {
   "cell_type": "code",
   "execution_count": 7,
   "metadata": {},
   "outputs": [
    {
     "data": {
      "text/html": [
       "<div>\n",
       "<style scoped>\n",
       "    .dataframe tbody tr th:only-of-type {\n",
       "        vertical-align: middle;\n",
       "    }\n",
       "\n",
       "    .dataframe tbody tr th {\n",
       "        vertical-align: top;\n",
       "    }\n",
       "\n",
       "    .dataframe thead th {\n",
       "        text-align: right;\n",
       "    }\n",
       "</style>\n",
       "<table border=\"1\" class=\"dataframe\">\n",
       "  <thead>\n",
       "    <tr style=\"text-align: right;\">\n",
       "      <th></th>\n",
       "      <th>TAVG</th>\n",
       "      <th>PRCP</th>\n",
       "      <th>start_hour_range_10am-4pm</th>\n",
       "      <th>start_hour_range_1am-6am</th>\n",
       "      <th>start_hour_range_5pm-7pm</th>\n",
       "      <th>start_hour_range_7am-9am</th>\n",
       "      <th>start_hour_range_8pm_12am</th>\n",
       "    </tr>\n",
       "  </thead>\n",
       "  <tbody>\n",
       "    <tr>\n",
       "      <th>0</th>\n",
       "      <td>-2</td>\n",
       "      <td>0.0</td>\n",
       "      <td>1</td>\n",
       "      <td>0</td>\n",
       "      <td>0</td>\n",
       "      <td>0</td>\n",
       "      <td>0</td>\n",
       "    </tr>\n",
       "    <tr>\n",
       "      <th>1</th>\n",
       "      <td>-2</td>\n",
       "      <td>0.0</td>\n",
       "      <td>0</td>\n",
       "      <td>1</td>\n",
       "      <td>0</td>\n",
       "      <td>0</td>\n",
       "      <td>0</td>\n",
       "    </tr>\n",
       "    <tr>\n",
       "      <th>2</th>\n",
       "      <td>-2</td>\n",
       "      <td>0.0</td>\n",
       "      <td>0</td>\n",
       "      <td>0</td>\n",
       "      <td>1</td>\n",
       "      <td>0</td>\n",
       "      <td>0</td>\n",
       "    </tr>\n",
       "    <tr>\n",
       "      <th>3</th>\n",
       "      <td>-2</td>\n",
       "      <td>0.0</td>\n",
       "      <td>0</td>\n",
       "      <td>0</td>\n",
       "      <td>0</td>\n",
       "      <td>1</td>\n",
       "      <td>0</td>\n",
       "    </tr>\n",
       "    <tr>\n",
       "      <th>4</th>\n",
       "      <td>-2</td>\n",
       "      <td>0.0</td>\n",
       "      <td>0</td>\n",
       "      <td>0</td>\n",
       "      <td>0</td>\n",
       "      <td>0</td>\n",
       "      <td>1</td>\n",
       "    </tr>\n",
       "  </tbody>\n",
       "</table>\n",
       "</div>"
      ],
      "text/plain": [
       "   TAVG  PRCP  start_hour_range_10am-4pm  start_hour_range_1am-6am  \\\n",
       "0    -2   0.0                          1                         0   \n",
       "1    -2   0.0                          0                         1   \n",
       "2    -2   0.0                          0                         0   \n",
       "3    -2   0.0                          0                         0   \n",
       "4    -2   0.0                          0                         0   \n",
       "\n",
       "   start_hour_range_5pm-7pm  start_hour_range_7am-9am  \\\n",
       "0                         0                         0   \n",
       "1                         0                         0   \n",
       "2                         1                         0   \n",
       "3                         0                         1   \n",
       "4                         0                         0   \n",
       "\n",
       "   start_hour_range_8pm_12am  \n",
       "0                          0  \n",
       "1                          0  \n",
       "2                          0  \n",
       "3                          0  \n",
       "4                          1  "
      ]
     },
     "execution_count": 7,
     "metadata": {},
     "output_type": "execute_result"
    }
   ],
   "source": [
    "chicago_2018_X.head()"
   ]
  },
  {
   "cell_type": "code",
   "execution_count": 8,
   "metadata": {},
   "outputs": [],
   "source": [
    "chicago_2018_Y = chicago_2018_agg[\"trip_count\"].values.reshape(-1, 1)"
   ]
  },
  {
   "cell_type": "code",
   "execution_count": null,
   "metadata": {},
   "outputs": [],
   "source": []
  },
  {
   "cell_type": "code",
   "execution_count": 9,
   "metadata": {},
   "outputs": [
    {
     "name": "stdout",
     "output_type": "stream",
     "text": [
      "(1825, 7) (1825, 1)\n"
     ]
    }
   ],
   "source": [
    "print(chicago_2018_X.shape, chicago_2018_Y.shape)"
   ]
  },
  {
   "cell_type": "code",
   "execution_count": 10,
   "metadata": {},
   "outputs": [],
   "source": [
    "# Split the data into training and testing\n",
    "\n",
    "from sklearn.model_selection import train_test_split\n",
    "X_train_chicago, X_test_chicago, y_train_chicago, y_test_chicago = train_test_split(chicago_2018_X, chicago_2018_Y, random_state=42)\n"
   ]
  },
  {
   "cell_type": "code",
   "execution_count": 11,
   "metadata": {},
   "outputs": [
    {
     "name": "stderr",
     "output_type": "stream",
     "text": [
      "C:\\Users\\Sumeira\\Anaconda3\\envs\\PythonData\\lib\\site-packages\\sklearn\\preprocessing\\data.py:645: DataConversionWarning: Data with input dtype uint8, int64, float64 were all converted to float64 by StandardScaler.\n",
      "  return self.partial_fit(X, y)\n",
      "C:\\Users\\Sumeira\\Anaconda3\\envs\\PythonData\\lib\\site-packages\\sklearn\\utils\\validation.py:595: DataConversionWarning: Data with input dtype int64 was converted to float64 by StandardScaler.\n",
      "  warnings.warn(msg, DataConversionWarning)\n"
     ]
    }
   ],
   "source": [
    "# Create a StandardScater model and fit it to the training data\n",
    "from sklearn.preprocessing import StandardScaler\n",
    "\n",
    "X_scaler_chicago = StandardScaler().fit(X_train_chicago)\n",
    "y_scaler_chicago = StandardScaler().fit(y_train_chicago)\n"
   ]
  },
  {
   "cell_type": "code",
   "execution_count": 12,
   "metadata": {},
   "outputs": [
    {
     "name": "stderr",
     "output_type": "stream",
     "text": [
      "C:\\Users\\Sumeira\\Anaconda3\\envs\\PythonData\\lib\\site-packages\\ipykernel_launcher.py:3: DataConversionWarning: Data with input dtype uint8, int64, float64 were all converted to float64 by StandardScaler.\n",
      "  This is separate from the ipykernel package so we can avoid doing imports until\n",
      "C:\\Users\\Sumeira\\Anaconda3\\envs\\PythonData\\lib\\site-packages\\ipykernel_launcher.py:4: DataConversionWarning: Data with input dtype uint8, int64, float64 were all converted to float64 by StandardScaler.\n",
      "  after removing the cwd from sys.path.\n",
      "C:\\Users\\Sumeira\\Anaconda3\\envs\\PythonData\\lib\\site-packages\\sklearn\\utils\\validation.py:595: DataConversionWarning: Data with input dtype int64 was converted to float64 by StandardScaler.\n",
      "  warnings.warn(msg, DataConversionWarning)\n",
      "C:\\Users\\Sumeira\\Anaconda3\\envs\\PythonData\\lib\\site-packages\\sklearn\\utils\\validation.py:595: DataConversionWarning: Data with input dtype int64 was converted to float64 by StandardScaler.\n",
      "  warnings.warn(msg, DataConversionWarning)\n"
     ]
    }
   ],
   "source": [
    "# Transform the training and testing data using the X_scaler and y_scaler models\n",
    "\n",
    "X_train_scaled_ch = X_scaler_chicago.transform(X_train_chicago)\n",
    "X_test_scaled_ch = X_scaler_chicago.transform(X_test_chicago)\n",
    "y_train_scaled_ch = y_scaler_chicago.transform(y_train_chicago)\n",
    "y_test_scaled_ch = y_scaler_chicago.transform(y_test_chicago)"
   ]
  },
  {
   "cell_type": "code",
   "execution_count": 13,
   "metadata": {},
   "outputs": [
    {
     "data": {
      "text/plain": [
       "LinearRegression(copy_X=True, fit_intercept=True, n_jobs=None,\n",
       "         normalize=False)"
      ]
     },
     "execution_count": 13,
     "metadata": {},
     "output_type": "execute_result"
    }
   ],
   "source": [
    "# Create a LinearRegression model and fit it to the scaled training data\n",
    "from sklearn.linear_model import LinearRegression\n",
    "\n",
    "model_ch = LinearRegression()\n",
    "model_ch.fit(X_train_scaled_ch, y_train_scaled_ch)"
   ]
  },
  {
   "cell_type": "code",
   "execution_count": 67,
   "metadata": {},
   "outputs": [],
   "source": [
    "# predictions_ch = model_ch.predict(X_test_ch)"
   ]
  },
  {
   "cell_type": "code",
   "execution_count": 14,
   "metadata": {},
   "outputs": [
    {
     "data": {
      "text/plain": [
       "Text(0.5, 1.0, 'Residual Plot - Chicago')"
      ]
     },
     "execution_count": 14,
     "metadata": {},
     "output_type": "execute_result"
    },
    {
     "data": {
      "image/png": "[encoded data removed]",
      "text/plain": [
       "<Figure size 432x288 with 1 Axes>"
      ]
     },
     "metadata": {
      "needs_background": "light"
     },
     "output_type": "display_data"
    }
   ],
   "source": [
    "# Make predictions using the X_test_scaled data\n",
    "# Plot y_test_scaled vs y_test_scaled\n",
    "# Scatter plot y_test_scaled vs predictions\n",
    "\n",
    "predictions_ch = model_ch.predict(X_test_scaled_ch)\n",
    "model_ch.fit(X_train_scaled_ch, y_train_scaled_ch)\n",
    "\n",
    "plt.scatter(model_ch.predict(X_train_scaled_ch), model_ch.predict(X_train_scaled_ch) - y_train_scaled_ch, c=\"blue\", label=\"Training Data Chicago\")\n",
    "plt.scatter(model_ch.predict(X_test_scaled_ch), model_ch.predict(X_test_scaled_ch) - y_test_scaled_ch, c=\"orange\", label=\"Testing Data Chicago\")\n",
    "plt.legend()\n",
    "plt.hlines(y=0, xmin=y_test_scaled_ch.min(), xmax=y_test_scaled_ch.max())\n",
    "plt.title(\"Residual Plot - Chicago\")"
   ]
  },
  {
   "cell_type": "code",
   "execution_count": 15,
   "metadata": {},
   "outputs": [
    {
     "name": "stdout",
     "output_type": "stream",
     "text": [
      "Weight coefficients:  [[ 5.41667788e-01 -1.23987103e-01 -2.46144271e+13 -2.46144271e+13\n",
      "  -2.42420357e+13 -2.46475138e+13 -2.43792603e+13]]\n",
      "y-axis intercept:  [-0.00296943]\n"
     ]
    }
   ],
   "source": [
    "print('Weight coefficients: ', model_ch.coef_)\n",
    "print('y-axis intercept: ', model_ch.intercept_) "
   ]
  },
  {
   "cell_type": "code",
   "execution_count": 18,
   "metadata": {},
   "outputs": [
    {
     "name": "stdout",
     "output_type": "stream",
     "text": [
      "True output: [-0.90418119]\n",
      "Predicted output: [-1.19828193]\n",
      "Prediction Error: [-0.29410074]\n"
     ]
    }
   ],
   "source": [
    "print(f\"True output: {y_test_scaled_ch[14]}\")\n",
    "print(f\"Predicted output: {predictions_ch[14]}\")\n",
    "print(f\"Prediction Error: {predictions_ch[14] - y_test_scaled_ch[14]}\")"
   ]
  },
  {
   "cell_type": "code",
   "execution_count": 19,
   "metadata": {},
   "outputs": [
    {
     "name": "stdout",
     "output_type": "stream",
     "text": [
      "Mean Squared Error (MSE) - Chicago: 0.2773364943560316\n",
      "R-squared (R2 ) - Chicago: 0.6570263050630936\n"
     ]
    }
   ],
   "source": [
    "from sklearn.metrics import mean_squared_error, r2_score\n",
    "\n",
    "# Use our model to predict a value\n",
    "predicted_ch = model_ch.predict(X_test_scaled_ch)\n",
    "\n",
    "# Score the prediction with mse and r2\n",
    "mse_ch = mean_squared_error(y_test_scaled_ch, predicted_ch)\n",
    "r2_ch = r2_score(y_test_scaled_ch, predicted_ch)\n",
    "\n",
    "print(f\"Mean Squared Error (MSE) - Chicago: {mse_ch}\")\n",
    "print(f\"R-squared (R2 ) - Chicago: {r2_ch}\")"
   ]
  },
  {
   "cell_type": "code",
   "execution_count": 20,
   "metadata": {},
   "outputs": [
    {
     "data": {
      "text/plain": [
       "0.6570263050630936"
      ]
     },
     "execution_count": 20,
     "metadata": {},
     "output_type": "execute_result"
    }
   ],
   "source": [
    "model_ch.score(X_test_scaled_ch, y_test_scaled_ch)"
   ]
  },
  {
   "cell_type": "code",
   "execution_count": null,
   "metadata": {},
   "outputs": [],
   "source": []
  },
  {
   "cell_type": "code",
   "execution_count": 73,
   "metadata": {},
   "outputs": [],
   "source": [
    "# Mean Squared Error (MSE) - Chicago: 0.11274508098837624\n",
    "# R-squared (R2 ) - Chicago: 0.8625831625991298"
   ]
  },
  {
   "cell_type": "code",
   "execution_count": null,
   "metadata": {},
   "outputs": [],
   "source": []
  },
  {
   "cell_type": "code",
   "execution_count": null,
   "metadata": {},
   "outputs": [],
   "source": []
  }
 ],
 "metadata": {
  "kernelspec": {
   "display_name": "Python 3",
   "language": "python",
   "name": "python3"
  },
  "language_info": {
   "codemirror_mode": {
    "name": "ipython",
    "version": 3
   },
   "file_extension": ".py",
   "mimetype": "text/x-python",
   "name": "python",
   "nbconvert_exporter": "python",
   "pygments_lexer": "ipython3",
   "version": "3.6.7"
  }
 },
 "nbformat": 4,
 "nbformat_minor": 2
}
